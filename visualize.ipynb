{
 "cells": [
  {
   "cell_type": "code",
   "execution_count": 1,
   "metadata": {},
   "outputs": [
    {
     "name": "stdout",
     "output_type": "stream",
     "text": [
      "Label 0 percentage:   20.00%\n",
      "Label 1 percentage:   20.02%\n",
      "Label 2 percentage:   19.96%\n",
      "Label 3 percentage:   20.05%\n",
      "Label 4 percentage:   19.97%\n"
     ]
    }
   ],
   "source": [
    "import pandas as pd\n",
    "import pickle\n",
    "\n",
    "\n",
    "cnt = [0] * 5\n",
    "labels = pickle.load(open('simulated_data_label.pkl', 'rb'))\n",
    "for label in labels:\n",
    "    cnt[label] += 1\n",
    "\n",
    "for i in range(5):\n",
    "    print('Label {label} percentage:{percentage:8.2f}%'.format(label=i, percentage=cnt[i]/1200))\n"
   ]
  }
 ],
 "metadata": {
  "kernelspec": {
   "display_name": "Python 3",
   "language": "python",
   "name": "python3"
  },
  "language_info": {
   "codemirror_mode": {
    "name": "ipython",
    "version": 3
   },
   "file_extension": ".py",
   "mimetype": "text/x-python",
   "name": "python",
   "nbconvert_exporter": "python",
   "pygments_lexer": "ipython3",
   "version": "3.7.4"
  }
 },
 "nbformat": 4,
 "nbformat_minor": 2
}
